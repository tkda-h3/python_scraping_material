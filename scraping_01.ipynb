{
 "cells": [
  {
   "cell_type": "markdown",
   "id": "d64dbc97-1d90-4626-bc55-f38f89274d3b",
   "metadata": {},
   "source": [
    "# WEB幹事スクレイピング（基礎編）"
   ]
  },
  {
   "cell_type": "code",
   "execution_count": 1,
   "id": "70197c4c-55c1-4d9f-9272-38e482bbe86a",
   "metadata": {},
   "outputs": [],
   "source": [
    "from time import sleep\n",
    "\n",
    "from selenium import webdriver\n",
    "from selenium.webdriver.chrome.options import Options\n",
    "from selenium.webdriver.chrome.service import Service\n",
    "from selenium.webdriver.common.by import By\n",
    "from selenium.common.exceptions import NoSuchElementException\n",
    "from webdriver_manager.chrome import ChromeDriverManager\n",
    "import pandas as pd"
   ]
  },
  {
   "cell_type": "code",
   "execution_count": 2,
   "id": "19c668cf-f493-466a-b383-e79527d3acfc",
   "metadata": {},
   "outputs": [
    {
     "data": {
      "text/plain": [
       "'\\npandas==1.3.3\\nbeautifulsoup4==4.10.0\\nwebdriver-manager==3.5.1\\nrequests\\ntqdm\\n'"
      ]
     },
     "execution_count": 2,
     "metadata": {},
     "output_type": "execute_result"
    }
   ],
   "source": [
    "\"\"\"\n",
    "pandas==1.3.3\n",
    "beautifulsoup4==4.10.0\n",
    "webdriver-manager==3.5.1\n",
    "requests\n",
    "tqdm\n",
    "\"\"\""
   ]
  },
  {
   "cell_type": "code",
   "execution_count": 3,
   "id": "246cc9e7-cdca-439b-849f-86d02eb3a872",
   "metadata": {},
   "outputs": [
    {
     "name": "stderr",
     "output_type": "stream",
     "text": [
      "[WDM] - \n",
      "\n",
      "[WDM] - ====== WebDriver manager ======\n",
      "[WDM] - Current google-chrome version is 95.0.4638\n",
      "[WDM] - Get LATEST driver version for 95.0.4638\n",
      "[WDM] - Driver [/Users/takada/.wdm/drivers/chromedriver/mac64/95.0.4638.54/chromedriver] found in cache\n"
     ]
    }
   ],
   "source": [
    "options = Options()\n",
    "# options.add_argument('--headless')\n",
    "driver = webdriver.Chrome(service=Service(ChromeDriverManager().install()), options=options)"
   ]
  },
  {
   "cell_type": "code",
   "execution_count": 4,
   "id": "a1cb42a6-3adc-48fc-a7ec-cb638a42dc7f",
   "metadata": {},
   "outputs": [],
   "source": [
    "#driver.quit()"
   ]
  },
  {
   "cell_type": "markdown",
   "id": "771ee321-5a3c-4322-ba6e-8a3d5a115012",
   "metadata": {},
   "source": [
    "## 1. 検索結果1ページ目から個別ページのリンクを取得する"
   ]
  },
  {
   "cell_type": "code",
   "execution_count": 5,
   "id": "caab7fab-5105-475a-8b19-2c2797297349",
   "metadata": {},
   "outputs": [],
   "source": [
    "url = 'https://web-kanji.com/search/akita'\n",
    "driver.get(url)"
   ]
  },
  {
   "cell_type": "code",
   "execution_count": 6,
   "id": "33c52d8b-96a8-4b23-b1a2-2895473b14ff",
   "metadata": {},
   "outputs": [],
   "source": [
    "company_items = driver.find_elements(By.CSS_SELECTOR, '.companies-item')"
   ]
  },
  {
   "cell_type": "code",
   "execution_count": 7,
   "id": "69d0eefb-7321-4f8d-b2e9-6872fb496e38",
   "metadata": {},
   "outputs": [
    {
     "name": "stdout",
     "output_type": "stream",
     "text": [
      "20\n",
      "https://web-kanji.com/companies/kanata-factory\n"
     ]
    }
   ],
   "source": [
    "print(len(company_items))\n",
    "print(company_items[0].get_attribute('href'))"
   ]
  },
  {
   "cell_type": "code",
   "execution_count": 8,
   "id": "86933845-5d1b-477d-95c7-a2974c7150bc",
   "metadata": {},
   "outputs": [],
   "source": [
    "single_company_urls = [item.get_attribute('href') for item in company_items]"
   ]
  },
  {
   "cell_type": "markdown",
   "id": "1e3e524a-0f19-4e9e-9edf-1273d3acd1af",
   "metadata": {},
   "source": [
    "### 関数化"
   ]
  },
  {
   "cell_type": "code",
   "execution_count": 9,
   "id": "c7ce4c55-cb2b-41d9-aca4-6fc6f82f77c8",
   "metadata": {},
   "outputs": [],
   "source": [
    "def fetch_single_company_urls(driver, url):\n",
    "    \"\"\"\n",
    "    パラメータ:\n",
    "        driver: WebDriver\n",
    "        url: 検索結果の一覧ページ\n",
    "    返却値:\n",
    "        single_company_urls: 制作会社個別ページのURLリスト\n",
    "\n",
    "    urlに載っている制作会社個別ページのURLを取得する\n",
    "    \"\"\"\n",
    "    driver.get(url)\n",
    "    sleep(1)\n",
    "    company_items = driver.find_elements(By.CSS_SELECTOR, '.companies-item')\n",
    "    single_company_urls = [item.get_attribute('href') for item in company_items]\n",
    "    return single_company_urls\n"
   ]
  },
  {
   "cell_type": "markdown",
   "id": "efd26be1-5e7e-4f91-ac66-9b2e02447223",
   "metadata": {},
   "source": [
    "## 2. 個別ページの会社概要の情報を抽出する"
   ]
  },
  {
   "cell_type": "code",
   "execution_count": 10,
   "id": "b4fa8543-9cc5-4316-ae09-59aa4f6c3aed",
   "metadata": {},
   "outputs": [],
   "source": [
    "url = single_company_urls[0]\n",
    "driver.get(url)"
   ]
  },
  {
   "cell_type": "code",
   "execution_count": 11,
   "id": "4e90be28-1389-4868-8e31-3eccf6c08550",
   "metadata": {},
   "outputs": [
    {
     "data": {
      "text/plain": [
       "{'会社名': '株式会社Kanata factory',\n",
       " '設立': '2020年10月1日',\n",
       " '代表': '金沢 佑紀',\n",
       " '本社所在地': '〒 016-0831 秋田県能代市元町4-11',\n",
       " '資本金': '300万円',\n",
       " '社員数': '3人',\n",
       " 'URL': 'https://kanata-factory.co.jp/'}"
      ]
     },
     "execution_count": 11,
     "metadata": {},
     "output_type": "execute_result"
    }
   ],
   "source": [
    "#dl_element = driver.find_elements(By.CSS_SELECTOR, '.company-data.is-narrow')[0]\n",
    "dl_element = driver.find_element(By.CSS_SELECTOR, '.company-data.is-narrow')\n",
    "dt_elements = dl_element.find_elements(By.CSS_SELECTOR, 'dt')\n",
    "dd_elements = dl_element.find_elements(By.CSS_SELECTOR, 'dd')\n",
    "\n",
    "datum = {}\n",
    "for dt, dd in zip(dt_elements, dd_elements):\n",
    "    datum[dt.text] = dd.text.replace('\\n', ' ')\n",
    "datum"
   ]
  },
  {
   "cell_type": "markdown",
   "id": "a774ebaa-16ab-4452-9828-93ca9728f0cd",
   "metadata": {},
   "source": [
    "### 関数化"
   ]
  },
  {
   "cell_type": "code",
   "execution_count": 12,
   "id": "c02b1659-99d1-479b-9f3f-abc0cfb94e00",
   "metadata": {},
   "outputs": [],
   "source": [
    "def extract_company_data(driver, url):\n",
    "    \"\"\"\n",
    "    パラメータ:\n",
    "        driver: WebDriver\n",
    "        url: 個別ページURL\n",
    "    返却値:\n",
    "        data: 制作会社の会社情報のdict\n",
    "              (例) \n",
    "              {\n",
    "                  'WEB幹事_URL': 'http://web-kanji....', \n",
    "                  '会社名': 'xxx株式会社', \n",
    "                  '代表': '山田 太郎', \n",
    "                  'URL': 'http://xxx.co.jp/', \n",
    "                  ...\n",
    "              }\n",
    "    \"\"\"\n",
    "    driver.get(url)\n",
    "    sleep(1)\n",
    "    dl_element = driver.find_element(By.CSS_SELECTOR, '.company-data.is-narrow')\n",
    "    dt_elements = dl_element.find_elements(By.CSS_SELECTOR, 'dt')\n",
    "    dd_elements = dl_element.find_elements(By.CSS_SELECTOR, 'dd')\n",
    "\n",
    "    data = {}\n",
    "    data['WEB幹事_URL'] = url\n",
    "    for dt, dd in zip(dt_elements, dd_elements):\n",
    "        data[dt.text] = dd.text.replace('\\n', ' ')\n",
    "    return data"
   ]
  },
  {
   "cell_type": "markdown",
   "id": "1dc1c560-07f9-4ba8-a271-075f6233182b",
   "metadata": {},
   "source": [
    "## 3. 20社の会社概要を取得する ※ 今回は3社\n",
    "\n",
    "ただし、今回は同時に20件アクセスするとサーバに負荷をかけてしまうので3件とします。"
   ]
  },
  {
   "cell_type": "code",
   "execution_count": 13,
   "id": "d55c3d54-18fe-4656-96d5-5425530840c2",
   "metadata": {},
   "outputs": [],
   "source": [
    "search_url = 'https://web-kanji.com/search/akita'\n",
    "single_company_urls = fetch_single_company_urls(driver, search_url)"
   ]
  },
  {
   "cell_type": "code",
   "execution_count": 14,
   "id": "2abbd00a-9c47-4a1c-85df-f77fc8e2514c",
   "metadata": {},
   "outputs": [
    {
     "name": "stdout",
     "output_type": "stream",
     "text": [
      "20\n",
      "3\n"
     ]
    }
   ],
   "source": [
    "# 3社のみにフィルタ\n",
    "print(len(single_company_urls))\n",
    "single_company_urls = single_company_urls[:3]\n",
    "print(len(single_company_urls))"
   ]
  },
  {
   "cell_type": "code",
   "execution_count": 15,
   "id": "e7502a58-90b5-467b-8e9e-1e985f509908",
   "metadata": {},
   "outputs": [],
   "source": [
    "company_data = [extract_company_data(driver, url) for url in single_company_urls]"
   ]
  },
  {
   "cell_type": "code",
   "execution_count": 16,
   "id": "389c9651-1f54-4f94-8419-19ff95ab324c",
   "metadata": {},
   "outputs": [
    {
     "data": {
      "text/html": [
       "<div>\n",
       "<style scoped>\n",
       "    .dataframe tbody tr th:only-of-type {\n",
       "        vertical-align: middle;\n",
       "    }\n",
       "\n",
       "    .dataframe tbody tr th {\n",
       "        vertical-align: top;\n",
       "    }\n",
       "\n",
       "    .dataframe thead th {\n",
       "        text-align: right;\n",
       "    }\n",
       "</style>\n",
       "<table border=\"1\" class=\"dataframe\">\n",
       "  <thead>\n",
       "    <tr style=\"text-align: right;\">\n",
       "      <th></th>\n",
       "      <th>WEB幹事_URL</th>\n",
       "      <th>会社名</th>\n",
       "      <th>設立</th>\n",
       "      <th>代表</th>\n",
       "      <th>本社所在地</th>\n",
       "      <th>資本金</th>\n",
       "      <th>社員数</th>\n",
       "      <th>URL</th>\n",
       "    </tr>\n",
       "  </thead>\n",
       "  <tbody>\n",
       "    <tr>\n",
       "      <th>0</th>\n",
       "      <td>https://web-kanji.com/companies/kanata-factory</td>\n",
       "      <td>株式会社Kanata factory</td>\n",
       "      <td>2020年10月1日</td>\n",
       "      <td>金沢 佑紀</td>\n",
       "      <td>〒 016-0831 秋田県能代市元町4-11</td>\n",
       "      <td>300万円</td>\n",
       "      <td>3人</td>\n",
       "      <td>https://kanata-factory.co.jp/</td>\n",
       "    </tr>\n",
       "    <tr>\n",
       "      <th>1</th>\n",
       "      <td>https://web-kanji.com/companies/crossfade</td>\n",
       "      <td>合資会社クロスフェイド</td>\n",
       "      <td>2001年10月</td>\n",
       "      <td></td>\n",
       "      <td>〒 015-0041 秋田県由利本荘市薬師堂字境田54-101</td>\n",
       "      <td></td>\n",
       "      <td></td>\n",
       "      <td>http://www.crossfade.jp/</td>\n",
       "    </tr>\n",
       "    <tr>\n",
       "      <th>2</th>\n",
       "      <td>https://web-kanji.com/companies/kokua-d</td>\n",
       "      <td>コクア・デザイン・オフィス</td>\n",
       "      <td>2004年11月</td>\n",
       "      <td>齋藤 学</td>\n",
       "      <td>〒 010-1502 秋田県秋田市下浜長浜字長坂159−6</td>\n",
       "      <td>100万円</td>\n",
       "      <td>1</td>\n",
       "      <td>http://www.kokua-d.com/</td>\n",
       "    </tr>\n",
       "  </tbody>\n",
       "</table>\n",
       "</div>"
      ],
      "text/plain": [
       "                                        WEB幹事_URL                 会社名  \\\n",
       "0  https://web-kanji.com/companies/kanata-factory  株式会社Kanata factory   \n",
       "1       https://web-kanji.com/companies/crossfade         合資会社クロスフェイド   \n",
       "2         https://web-kanji.com/companies/kokua-d       コクア・デザイン・オフィス   \n",
       "\n",
       "           設立     代表                            本社所在地    資本金 社員数  \\\n",
       "0  2020年10月1日  金沢 佑紀          〒 016-0831 秋田県能代市元町4-11  300万円  3人   \n",
       "1    2001年10月         〒 015-0041 秋田県由利本荘市薬師堂字境田54-101              \n",
       "2    2004年11月   齋藤 学    〒 010-1502 秋田県秋田市下浜長浜字長坂159−6  100万円   1   \n",
       "\n",
       "                             URL  \n",
       "0  https://kanata-factory.co.jp/  \n",
       "1       http://www.crossfade.jp/  \n",
       "2        http://www.kokua-d.com/  "
      ]
     },
     "execution_count": 16,
     "metadata": {},
     "output_type": "execute_result"
    }
   ],
   "source": [
    "df = pd.DataFrame(company_data).fillna('')\n",
    "df"
   ]
  },
  {
   "cell_type": "markdown",
   "id": "52a84132-9c33-4fc0-9fe2-3a2e0513b983",
   "metadata": {},
   "source": [
    "## 4. 検索結果の2ページ目以降に掲載されている制作会社個別ページも取得する\n",
    "\n",
    "### 方法1 (易しい、手作業多い)\n",
    "\n",
    "検索結果のページネーションURLを直書きで指定する"
   ]
  },
  {
   "cell_type": "code",
   "execution_count": 17,
   "id": "1eef353d-0cfd-4ed5-9dfb-e017e0863556",
   "metadata": {},
   "outputs": [],
   "source": [
    "search_urls = [\n",
    "    'https://web-kanji.com/search/akita',\n",
    "    'https://web-kanji.com/search/akita/page/2',\n",
    "]"
   ]
  },
  {
   "cell_type": "code",
   "execution_count": 18,
   "id": "13b3e530-cef3-471a-89b2-df3881769a27",
   "metadata": {},
   "outputs": [
    {
     "name": "stdout",
     "output_type": "stream",
     "text": [
      "36\n",
      "3\n"
     ]
    }
   ],
   "source": [
    "single_company_urls = []\n",
    "for url in search_urls:\n",
    "    urls = fetch_single_company_urls(driver, url)\n",
    "    single_company_urls.extend(urls)\n",
    "\n",
    "print(len(single_company_urls))\n",
    "single_company_urls = single_company_urls[:3]\n",
    "print(len(single_company_urls))"
   ]
  },
  {
   "cell_type": "code",
   "execution_count": 19,
   "id": "679c6615-f225-43e9-b684-62e5c2c51aaf",
   "metadata": {},
   "outputs": [
    {
     "data": {
      "text/html": [
       "<div>\n",
       "<style scoped>\n",
       "    .dataframe tbody tr th:only-of-type {\n",
       "        vertical-align: middle;\n",
       "    }\n",
       "\n",
       "    .dataframe tbody tr th {\n",
       "        vertical-align: top;\n",
       "    }\n",
       "\n",
       "    .dataframe thead th {\n",
       "        text-align: right;\n",
       "    }\n",
       "</style>\n",
       "<table border=\"1\" class=\"dataframe\">\n",
       "  <thead>\n",
       "    <tr style=\"text-align: right;\">\n",
       "      <th></th>\n",
       "      <th>WEB幹事_URL</th>\n",
       "      <th>会社名</th>\n",
       "      <th>設立</th>\n",
       "      <th>代表</th>\n",
       "      <th>本社所在地</th>\n",
       "      <th>資本金</th>\n",
       "      <th>社員数</th>\n",
       "      <th>URL</th>\n",
       "    </tr>\n",
       "  </thead>\n",
       "  <tbody>\n",
       "    <tr>\n",
       "      <th>0</th>\n",
       "      <td>https://web-kanji.com/companies/kanata-factory</td>\n",
       "      <td>株式会社Kanata factory</td>\n",
       "      <td>2020年10月1日</td>\n",
       "      <td>金沢 佑紀</td>\n",
       "      <td>〒 016-0831 秋田県能代市元町4-11</td>\n",
       "      <td>300万円</td>\n",
       "      <td>3人</td>\n",
       "      <td>https://kanata-factory.co.jp/</td>\n",
       "    </tr>\n",
       "    <tr>\n",
       "      <th>1</th>\n",
       "      <td>https://web-kanji.com/companies/crossfade</td>\n",
       "      <td>合資会社クロスフェイド</td>\n",
       "      <td>2001年10月</td>\n",
       "      <td></td>\n",
       "      <td>〒 015-0041 秋田県由利本荘市薬師堂字境田54-101</td>\n",
       "      <td></td>\n",
       "      <td></td>\n",
       "      <td>http://www.crossfade.jp/</td>\n",
       "    </tr>\n",
       "    <tr>\n",
       "      <th>2</th>\n",
       "      <td>https://web-kanji.com/companies/kokua-d</td>\n",
       "      <td>コクア・デザイン・オフィス</td>\n",
       "      <td>2004年11月</td>\n",
       "      <td>齋藤 学</td>\n",
       "      <td>〒 010-1502 秋田県秋田市下浜長浜字長坂159−6</td>\n",
       "      <td>100万円</td>\n",
       "      <td>1</td>\n",
       "      <td>http://www.kokua-d.com/</td>\n",
       "    </tr>\n",
       "  </tbody>\n",
       "</table>\n",
       "</div>"
      ],
      "text/plain": [
       "                                        WEB幹事_URL                 会社名  \\\n",
       "0  https://web-kanji.com/companies/kanata-factory  株式会社Kanata factory   \n",
       "1       https://web-kanji.com/companies/crossfade         合資会社クロスフェイド   \n",
       "2         https://web-kanji.com/companies/kokua-d       コクア・デザイン・オフィス   \n",
       "\n",
       "           設立     代表                            本社所在地    資本金 社員数  \\\n",
       "0  2020年10月1日  金沢 佑紀          〒 016-0831 秋田県能代市元町4-11  300万円  3人   \n",
       "1    2001年10月         〒 015-0041 秋田県由利本荘市薬師堂字境田54-101              \n",
       "2    2004年11月   齋藤 学    〒 010-1502 秋田県秋田市下浜長浜字長坂159−6  100万円   1   \n",
       "\n",
       "                             URL  \n",
       "0  https://kanata-factory.co.jp/  \n",
       "1       http://www.crossfade.jp/  \n",
       "2        http://www.kokua-d.com/  "
      ]
     },
     "execution_count": 19,
     "metadata": {},
     "output_type": "execute_result"
    }
   ],
   "source": [
    "company_data = [extract_company_data(driver, url) for url in single_company_urls]\n",
    "df = pd.DataFrame(company_data).fillna('')\n",
    "df"
   ]
  },
  {
   "cell_type": "markdown",
   "id": "f9b8d405-ed9d-4019-83f6-fb5674c756f0",
   "metadata": {},
   "source": [
    "### 方法2 (難しい、手作業少ない)"
   ]
  },
  {
   "cell_type": "code",
   "execution_count": 20,
   "id": "e2dc651f-118f-4f7b-bae9-4167d5ab9544",
   "metadata": {},
   "outputs": [],
   "source": [
    "search_url = 'https://web-kanji.com/search/akita'\n",
    "driver.get(search_url)"
   ]
  },
  {
   "cell_type": "code",
   "execution_count": 21,
   "id": "6f7afb89-f6cc-4c63-93a5-2bb425a51e64",
   "metadata": {},
   "outputs": [],
   "source": [
    "search_urls = []\n",
    "current_url = search_url\n",
    "while True:\n",
    "    driver.get(current_url)\n",
    "    sleep(1)\n",
    "    search_urls.append(current_url)\n",
    "    try:\n",
    "        next_a = driver.find_element(By.CSS_SELECTOR, '.pagination-item > a[rel=\"next\"]')\n",
    "    except NoSuchElementException:\n",
    "        break\n",
    "    current_url = next_a.get_attribute('href')"
   ]
  },
  {
   "cell_type": "markdown",
   "id": "c1220e44-ca3c-4824-a51e-22070c5affc5",
   "metadata": {},
   "source": [
    "### 関数化"
   ]
  },
  {
   "cell_type": "code",
   "execution_count": 22,
   "id": "cbbb382e-3dea-48d3-a1ca-74e1186c4f2e",
   "metadata": {},
   "outputs": [],
   "source": [
    "def fetch_search_pagination_urls(driver, search_url):\n",
    "    \"\"\"\n",
    "    パラメータ:\n",
    "        driver: WebDriver\n",
    "        search_url: 検索結果１ページ目のURL\n",
    "    返却値:\n",
    "        search_urls: 検索条件のページネーションURLリスト\n",
    "    \n",
    "    検索結果のページネーションを自動で検知してページネーションのURLをすべて取得する\n",
    "    \"\"\"\n",
    "    search_urls = []\n",
    "    current_url = search_url\n",
    "    while True:\n",
    "        driver.get(current_url)\n",
    "        sleep(1)\n",
    "        search_urls.append(current_url)\n",
    "        try:\n",
    "            next_a = driver.find_element(By.CSS_SELECTOR, '.pagination-item > a[rel=\"next\"]')\n",
    "        except NoSuchElementException:\n",
    "            break\n",
    "        current_url = next_a.get_attribute('href')\n",
    "    return search_urls"
   ]
  },
  {
   "cell_type": "code",
   "execution_count": 23,
   "id": "e1b5b7b5-b9fa-498e-97f8-10c02d802b70",
   "metadata": {},
   "outputs": [
    {
     "data": {
      "text/plain": [
       "['https://web-kanji.com/search/akita',\n",
       " 'https://web-kanji.com/search/akita/page/2']"
      ]
     },
     "execution_count": 23,
     "metadata": {},
     "output_type": "execute_result"
    }
   ],
   "source": [
    "search_urls = fetch_search_pagination_urls(driver, search_url)\n",
    "search_urls"
   ]
  },
  {
   "cell_type": "code",
   "execution_count": 24,
   "id": "3bfd881d-c72a-4d77-9e32-da111b0dbaf4",
   "metadata": {},
   "outputs": [
    {
     "name": "stdout",
     "output_type": "stream",
     "text": [
      "36\n"
     ]
    }
   ],
   "source": [
    "single_company_urls = []\n",
    "for url in search_urls:\n",
    "    urls = fetch_single_company_urls(driver, url)\n",
    "    single_company_urls.extend(urls)\n",
    "print(len(single_company_urls))\n",
    "single_company_urls = single_company_urls[:3]"
   ]
  },
  {
   "cell_type": "code",
   "execution_count": 25,
   "id": "fdc23ec1-0ac5-4952-8c9c-bd27e8356c68",
   "metadata": {},
   "outputs": [
    {
     "data": {
      "text/html": [
       "<div>\n",
       "<style scoped>\n",
       "    .dataframe tbody tr th:only-of-type {\n",
       "        vertical-align: middle;\n",
       "    }\n",
       "\n",
       "    .dataframe tbody tr th {\n",
       "        vertical-align: top;\n",
       "    }\n",
       "\n",
       "    .dataframe thead th {\n",
       "        text-align: right;\n",
       "    }\n",
       "</style>\n",
       "<table border=\"1\" class=\"dataframe\">\n",
       "  <thead>\n",
       "    <tr style=\"text-align: right;\">\n",
       "      <th></th>\n",
       "      <th>WEB幹事_URL</th>\n",
       "      <th>会社名</th>\n",
       "      <th>設立</th>\n",
       "      <th>代表</th>\n",
       "      <th>本社所在地</th>\n",
       "      <th>資本金</th>\n",
       "      <th>社員数</th>\n",
       "      <th>URL</th>\n",
       "    </tr>\n",
       "  </thead>\n",
       "  <tbody>\n",
       "    <tr>\n",
       "      <th>0</th>\n",
       "      <td>https://web-kanji.com/companies/kanata-factory</td>\n",
       "      <td>株式会社Kanata factory</td>\n",
       "      <td>2020年10月1日</td>\n",
       "      <td>金沢 佑紀</td>\n",
       "      <td>〒 016-0831 秋田県能代市元町4-11</td>\n",
       "      <td>300万円</td>\n",
       "      <td>3人</td>\n",
       "      <td>https://kanata-factory.co.jp/</td>\n",
       "    </tr>\n",
       "    <tr>\n",
       "      <th>1</th>\n",
       "      <td>https://web-kanji.com/companies/crossfade</td>\n",
       "      <td>合資会社クロスフェイド</td>\n",
       "      <td>2001年10月</td>\n",
       "      <td></td>\n",
       "      <td>〒 015-0041 秋田県由利本荘市薬師堂字境田54-101</td>\n",
       "      <td></td>\n",
       "      <td></td>\n",
       "      <td>http://www.crossfade.jp/</td>\n",
       "    </tr>\n",
       "    <tr>\n",
       "      <th>2</th>\n",
       "      <td>https://web-kanji.com/companies/kokua-d</td>\n",
       "      <td>コクア・デザイン・オフィス</td>\n",
       "      <td>2004年11月</td>\n",
       "      <td>齋藤 学</td>\n",
       "      <td>〒 010-1502 秋田県秋田市下浜長浜字長坂159−6</td>\n",
       "      <td>100万円</td>\n",
       "      <td>1</td>\n",
       "      <td>http://www.kokua-d.com/</td>\n",
       "    </tr>\n",
       "  </tbody>\n",
       "</table>\n",
       "</div>"
      ],
      "text/plain": [
       "                                        WEB幹事_URL                 会社名  \\\n",
       "0  https://web-kanji.com/companies/kanata-factory  株式会社Kanata factory   \n",
       "1       https://web-kanji.com/companies/crossfade         合資会社クロスフェイド   \n",
       "2         https://web-kanji.com/companies/kokua-d       コクア・デザイン・オフィス   \n",
       "\n",
       "           設立     代表                            本社所在地    資本金 社員数  \\\n",
       "0  2020年10月1日  金沢 佑紀          〒 016-0831 秋田県能代市元町4-11  300万円  3人   \n",
       "1    2001年10月         〒 015-0041 秋田県由利本荘市薬師堂字境田54-101              \n",
       "2    2004年11月   齋藤 学    〒 010-1502 秋田県秋田市下浜長浜字長坂159−6  100万円   1   \n",
       "\n",
       "                             URL  \n",
       "0  https://kanata-factory.co.jp/  \n",
       "1       http://www.crossfade.jp/  \n",
       "2        http://www.kokua-d.com/  "
      ]
     },
     "execution_count": 25,
     "metadata": {},
     "output_type": "execute_result"
    }
   ],
   "source": [
    "company_data = [extract_company_data(driver, url) for url in single_company_urls]\n",
    "df = pd.DataFrame(company_data).fillna('')\n",
    "df"
   ]
  },
  {
   "cell_type": "markdown",
   "id": "07434ed5-02cd-4139-8d51-394a78d5731a",
   "metadata": {},
   "source": [
    "## 5. 抽出したデータをファイルに書き出す\n",
    "\n",
    "### tsvフォーマットで書き出す"
   ]
  },
  {
   "cell_type": "code",
   "execution_count": 26,
   "id": "e1851190-c92c-469f-a286-ecf249524343",
   "metadata": {},
   "outputs": [],
   "source": [
    "df.to_csv('company_data.tsv', sep='\\t')"
   ]
  },
  {
   "cell_type": "code",
   "execution_count": null,
   "id": "7f176245-468a-469e-93c8-3f9c53f50dcb",
   "metadata": {},
   "outputs": [],
   "source": []
  },
  {
   "cell_type": "code",
   "execution_count": null,
   "id": "c336ced7-d560-4c06-9084-37788c2a5265",
   "metadata": {},
   "outputs": [],
   "source": []
  },
  {
   "cell_type": "code",
   "execution_count": 28,
   "id": "5686f15d-be62-4060-90a9-f07eaf1aa16f",
   "metadata": {},
   "outputs": [
    {
     "name": "stdout",
     "output_type": "stream",
     "text": [
      "webdriver-manager==3.5.1\n"
     ]
    }
   ],
   "source": [
    "!pip freeze | grep webdri"
   ]
  },
  {
   "cell_type": "code",
   "execution_count": 29,
   "id": "fecb810b-8f25-4b5b-bfa6-f14676747298",
   "metadata": {},
   "outputs": [
    {
     "name": "stdout",
     "output_type": "stream",
     "text": [
      "0で割ってるよ\n"
     ]
    }
   ],
   "source": [
    "try:\n",
    "    3 / 0\n",
    "except ZeroDivisionError:\n",
    "    print('0で割ってるよ')"
   ]
  }
 ],
 "metadata": {
  "kernelspec": {
   "display_name": "Python 3 (ipykernel)",
   "language": "python",
   "name": "python3"
  },
  "language_info": {
   "codemirror_mode": {
    "name": "ipython",
    "version": 3
   },
   "file_extension": ".py",
   "mimetype": "text/x-python",
   "name": "python",
   "nbconvert_exporter": "python",
   "pygments_lexer": "ipython3",
   "version": "3.8.12"
  }
 },
 "nbformat": 4,
 "nbformat_minor": 5
}
