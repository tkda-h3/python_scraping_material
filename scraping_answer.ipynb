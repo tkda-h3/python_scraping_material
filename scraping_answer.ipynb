{
 "cells": [
  {
   "cell_type": "markdown",
   "id": "d64dbc97-1d90-4626-bc55-f38f89274d3b",
   "metadata": {},
   "source": [
    "# WEB幹事スクレイピング"
   ]
  },
  {
   "cell_type": "code",
   "execution_count": null,
   "id": "70197c4c-55c1-4d9f-9272-38e482bbe86a",
   "metadata": {},
   "outputs": [],
   "source": [
    "from time import sleep\n",
    "\n",
    "from selenium import webdriver\n",
    "from selenium.webdriver.chrome.options import Options\n",
    "from selenium.webdriver.chrome.service import Service\n",
    "from selenium.webdriver.common.by import By\n",
    "from selenium.common.exceptions import NoSuchElementException\n",
    "from webdriver_manager.chrome import ChromeDriverManager\n",
    "import pandas as pd"
   ]
  },
  {
   "cell_type": "markdown",
   "id": "f0360d9f-6ad4-481e-ae5d-920fcd965938",
   "metadata": {},
   "source": [
    "## 0. 自動操作用ブラウザの立ち上げ"
   ]
  },
  {
   "cell_type": "code",
   "execution_count": null,
   "id": "246cc9e7-cdca-439b-849f-86d02eb3a872",
   "metadata": {},
   "outputs": [],
   "source": [
    "options = Options()\n",
    "driver = webdriver.Chrome(service=Service(ChromeDriverManager().install()), options=options)"
   ]
  },
  {
   "cell_type": "markdown",
   "id": "771ee321-5a3c-4322-ba6e-8a3d5a115012",
   "metadata": {},
   "source": [
    "## 1. 検索結果1ページ目から個別ページのリンクを取得する\n",
    "\n",
    "今回は「秋田県」を検索条件に指定した場合を例にハンズオン形式で進めていきます。\n",
    "\n",
    "検索条件の指定ページ: https://web-kanji.com/search/"
   ]
  },
  {
   "cell_type": "code",
   "execution_count": null,
   "id": "caab7fab-5105-475a-8b19-2c2797297349",
   "metadata": {},
   "outputs": [],
   "source": [
    "url = 'https://web-kanji.com/search/akita'\n",
    "driver.get(url)"
   ]
  },
  {
   "cell_type": "markdown",
   "id": "fbe7b505-4df3-41a8-b9bc-74c7d043bcbd",
   "metadata": {},
   "source": [
    "companies-item をクラス名に持つタグを抽出します\n",
    "\n",
    "```html\n",
    "<a href=\"https://web-kanji.com/companies/xxx01\" class=\"companies-item\">会社1のコンテンツ</a>\n",
    "<a href=\"https://web-kanji.com/companies/xxx02\" class=\"companies-item\">会社2のコンテンツ</a>\n",
    "<a href=\"https://web-kanji.com/companies/xxx03\" class=\"companies-item\">会社3のコンテンツ</a>\n",
    "```"
   ]
  },
  {
   "cell_type": "code",
   "execution_count": null,
   "id": "33c52d8b-96a8-4b23-b1a2-2895473b14ff",
   "metadata": {},
   "outputs": [],
   "source": [
    "# リスト\n",
    "company_items = driver.find_elements(By.CSS_SELECTOR, '.companies-item')"
   ]
  },
  {
   "cell_type": "code",
   "execution_count": null,
   "id": "69d0eefb-7321-4f8d-b2e9-6872fb496e38",
   "metadata": {},
   "outputs": [],
   "source": [
    "print(len(company_items))\n",
    "print(company_items[0].get_attribute('href'))"
   ]
  },
  {
   "cell_type": "code",
   "execution_count": null,
   "id": "86933845-5d1b-477d-95c7-a2974c7150bc",
   "metadata": {},
   "outputs": [],
   "source": [
    "single_company_urls = [item.get_attribute('href') for item in company_items]"
   ]
  },
  {
   "cell_type": "markdown",
   "id": "1e3e524a-0f19-4e9e-9edf-1273d3acd1af",
   "metadata": {},
   "source": [
    "### 関数化"
   ]
  },
  {
   "cell_type": "code",
   "execution_count": null,
   "id": "c7ce4c55-cb2b-41d9-aca4-6fc6f82f77c8",
   "metadata": {},
   "outputs": [],
   "source": [
    "def fetch_single_company_urls(driver, url):\n",
    "    \"\"\"\n",
    "    パラメータ:\n",
    "        driver: WebDriver\n",
    "        url: 検索結果の一覧ページ\n",
    "    返却値:\n",
    "        single_company_urls: 制作会社個別ページのURLリスト\n",
    "\n",
    "    urlに載っている制作会社個別ページのURLを取得する\n",
    "    \"\"\"\n",
    "    driver.get(url)\n",
    "    sleep(1)\n",
    "    company_items = driver.find_elements(By.CSS_SELECTOR, '.companies-item')\n",
    "    single_company_urls = [item.get_attribute('href') for item in company_items]\n",
    "    return single_company_urls\n"
   ]
  },
  {
   "cell_type": "markdown",
   "id": "efd26be1-5e7e-4f91-ac66-9b2e02447223",
   "metadata": {},
   "source": [
    "## 2. 個別ページの会社情報を抽出する"
   ]
  },
  {
   "cell_type": "code",
   "execution_count": null,
   "id": "b4fa8543-9cc5-4316-ae09-59aa4f6c3aed",
   "metadata": {},
   "outputs": [],
   "source": [
    "url = single_company_urls[0]\n",
    "driver.get(url)"
   ]
  },
  {
   "cell_type": "markdown",
   "id": "ea260fde-cb7d-49ba-948b-a1ec8d9350cf",
   "metadata": {},
   "source": [
    "会社情報のHTML構造\n",
    "\n",
    "```html\n",
    "<dl class=\"company-data is-narrow\">\n",
    "    <dt>会社名</dt>\n",
    "    <dd>株式会社xxx</dd>\n",
    "\n",
    "    <dt>設立</dt>\n",
    "    <dd>2000年0月</dd>\n",
    "    \n",
    "    <dt>代表</dt>\n",
    "    <dd>山田 太郎</dd>\n",
    "    \n",
    "    <dt>本社所在地</dt>\n",
    "    <dd>\n",
    "        〒 123-4567<br>\n",
    "        秋田県xxx市yyy番地\n",
    "    </dd>\n",
    "    \n",
    "    <dt>資本金</dt>\n",
    "    <dd>\n",
    "        00万円\n",
    "    </dd>\n",
    "    \n",
    "    <dt>URL</dt>\n",
    "    <dd>\n",
    "        <a class=\"link js-forced-ad is-wordbreak\" href=\"http://example.co.jp\" target=\"_blank\" rel=\"noopener\">\n",
    "            http://example.co.jp\n",
    "        </a>\n",
    "    </dd>\n",
    "</dl>\n",
    "\n",
    "```"
   ]
  },
  {
   "cell_type": "code",
   "execution_count": null,
   "id": "4e90be28-1389-4868-8e31-3eccf6c08550",
   "metadata": {},
   "outputs": [],
   "source": [
    "dl_element = driver.find_element(By.CSS_SELECTOR, '.company-data.is-narrow')\n",
    "#dl_element = driver.find_elements(By.CSS_SELECTOR, '.company-data.is-narrow')[0] と同じ\n",
    "\n",
    "dt_elements = dl_element.find_elements(By.CSS_SELECTOR, 'dt')\n",
    "dd_elements = dl_element.find_elements(By.CSS_SELECTOR, 'dd')\n",
    "\n",
    "datum = {}\n",
    "for dt, dd in zip(dt_elements, dd_elements):\n",
    "    datum[dt.text] = dd.text.replace('\\n', ' ')\n",
    "datum"
   ]
  },
  {
   "cell_type": "markdown",
   "id": "a774ebaa-16ab-4452-9828-93ca9728f0cd",
   "metadata": {},
   "source": [
    "### 関数化"
   ]
  },
  {
   "cell_type": "code",
   "execution_count": null,
   "id": "c02b1659-99d1-479b-9f3f-abc0cfb94e00",
   "metadata": {},
   "outputs": [],
   "source": [
    "def extract_company_data(driver, url):\n",
    "    \"\"\"\n",
    "    パラメータ:\n",
    "        driver: WebDriver\n",
    "        url: 個別ページURL\n",
    "    返却値:\n",
    "        data: 制作会社の会社情報のdict\n",
    "              (例) \n",
    "              {\n",
    "                  'WEB幹事_URL': 'http://web-kanji....', \n",
    "                  '会社名': 'xxx株式会社', \n",
    "                  '代表': '山田 太郎', \n",
    "                  'URL': 'http://xxx.co.jp/', \n",
    "                  ...\n",
    "              }\n",
    "    \"\"\"\n",
    "    driver.get(url)\n",
    "    sleep(1)\n",
    "    dl_element = driver.find_element(By.CSS_SELECTOR, '.company-data.is-narrow')\n",
    "    dt_elements = dl_element.find_elements(By.CSS_SELECTOR, 'dt')\n",
    "    dd_elements = dl_element.find_elements(By.CSS_SELECTOR, 'dd')\n",
    "\n",
    "    data = {}\n",
    "    data['WEB幹事_URL'] = url\n",
    "    for dt, dd in zip(dt_elements, dd_elements):\n",
    "        data[dt.text] = dd.text.replace('\\n', ' ')\n",
    "    return data"
   ]
  },
  {
   "cell_type": "markdown",
   "id": "1dc1c560-07f9-4ba8-a271-075f6233182b",
   "metadata": {},
   "source": [
    "## 3. 20社の会社概要を取得する ※ 今回は3社\n",
    "\n",
    "ただし、今回は皆さん同時に20件アクセスするとサーバに負荷をかけてしまうので3件とします。"
   ]
  },
  {
   "cell_type": "code",
   "execution_count": null,
   "id": "d55c3d54-18fe-4656-96d5-5425530840c2",
   "metadata": {},
   "outputs": [],
   "source": [
    "search_url = 'https://web-kanji.com/search/akita'\n",
    "single_company_urls = fetch_single_company_urls(driver, search_url)"
   ]
  },
  {
   "cell_type": "code",
   "execution_count": null,
   "id": "2abbd00a-9c47-4a1c-85df-f77fc8e2514c",
   "metadata": {},
   "outputs": [],
   "source": [
    "# 3社のみにフィルタ\n",
    "print(len(single_company_urls))\n",
    "single_company_urls = single_company_urls[:3]\n",
    "print(len(single_company_urls))"
   ]
  },
  {
   "cell_type": "code",
   "execution_count": null,
   "id": "e7502a58-90b5-467b-8e9e-1e985f509908",
   "metadata": {},
   "outputs": [],
   "source": [
    "company_data = [extract_company_data(driver, url) for url in single_company_urls]"
   ]
  },
  {
   "cell_type": "code",
   "execution_count": null,
   "id": "389c9651-1f54-4f94-8419-19ff95ab324c",
   "metadata": {},
   "outputs": [],
   "source": [
    "df = pd.DataFrame(company_data).fillna('')\n",
    "df"
   ]
  },
  {
   "cell_type": "markdown",
   "id": "52a84132-9c33-4fc0-9fe2-3a2e0513b983",
   "metadata": {},
   "source": [
    "## 4. 検索結果の2ページ目以降に掲載されている制作会社個別ページも取得する\n",
    "\n",
    "### 方法1 (易しい、手作業多い)\n",
    "\n",
    "検索結果のページネーションURLを直書きで指定する"
   ]
  },
  {
   "cell_type": "code",
   "execution_count": null,
   "id": "1eef353d-0cfd-4ed5-9dfb-e017e0863556",
   "metadata": {},
   "outputs": [],
   "source": [
    "search_urls = [\n",
    "    'https://web-kanji.com/search/akita',\n",
    "    'https://web-kanji.com/search/akita/page/2',\n",
    "]"
   ]
  },
  {
   "cell_type": "code",
   "execution_count": null,
   "id": "13b3e530-cef3-471a-89b2-df3881769a27",
   "metadata": {},
   "outputs": [],
   "source": [
    "single_company_urls = []\n",
    "for url in search_urls:\n",
    "    urls = fetch_single_company_urls(driver, url)\n",
    "    single_company_urls.extend(urls)\n",
    "\n",
    "print(len(single_company_urls))\n",
    "single_company_urls = single_company_urls[:3]\n",
    "print(len(single_company_urls))"
   ]
  },
  {
   "cell_type": "code",
   "execution_count": null,
   "id": "679c6615-f225-43e9-b684-62e5c2c51aaf",
   "metadata": {},
   "outputs": [],
   "source": [
    "company_data = [extract_company_data(driver, url) for url in single_company_urls]\n",
    "df = pd.DataFrame(company_data).fillna('')\n",
    "df"
   ]
  },
  {
   "cell_type": "markdown",
   "id": "f9b8d405-ed9d-4019-83f6-fb5674c756f0",
   "metadata": {},
   "source": [
    "### 方法2 (難しい、手作業少ない)"
   ]
  },
  {
   "cell_type": "code",
   "execution_count": null,
   "id": "e2dc651f-118f-4f7b-bae9-4167d5ab9544",
   "metadata": {},
   "outputs": [],
   "source": [
    "search_url = 'https://web-kanji.com/search/akita'\n",
    "driver.get(search_url)"
   ]
  },
  {
   "cell_type": "code",
   "execution_count": null,
   "id": "6f7afb89-f6cc-4c63-93a5-2bb425a51e64",
   "metadata": {},
   "outputs": [],
   "source": [
    "search_urls = []\n",
    "current_url = search_url\n",
    "while True:\n",
    "    driver.get(current_url)\n",
    "    sleep(1)\n",
    "    search_urls.append(current_url)\n",
    "    try:\n",
    "        next_a = driver.find_element(By.CSS_SELECTOR, '.pagination-item > a[rel=\"next\"]')\n",
    "    except NoSuchElementException:\n",
    "        break\n",
    "    current_url = next_a.get_attribute('href')"
   ]
  },
  {
   "cell_type": "markdown",
   "id": "c1220e44-ca3c-4824-a51e-22070c5affc5",
   "metadata": {},
   "source": [
    "### 関数化"
   ]
  },
  {
   "cell_type": "code",
   "execution_count": null,
   "id": "cbbb382e-3dea-48d3-a1ca-74e1186c4f2e",
   "metadata": {},
   "outputs": [],
   "source": [
    "def fetch_search_pagination_urls(driver, search_url):\n",
    "    \"\"\"\n",
    "    パラメータ:\n",
    "        driver: WebDriver\n",
    "        search_url: 検索結果１ページ目のURL\n",
    "    返却値:\n",
    "        search_urls: 検索条件のページネーションURLリスト\n",
    "    \n",
    "    検索結果のページネーションを自動で検知してページネーションのURLをすべて取得する\n",
    "    \"\"\"\n",
    "    search_urls = []\n",
    "    current_url = search_url\n",
    "    while True:\n",
    "        driver.get(current_url)\n",
    "        sleep(1)\n",
    "        search_urls.append(current_url)\n",
    "        try:\n",
    "            next_a = driver.find_element(By.CSS_SELECTOR, '.pagination-item > a[rel=\"next\"]')\n",
    "        except NoSuchElementException:\n",
    "            break\n",
    "        current_url = next_a.get_attribute('href')\n",
    "    return search_urls"
   ]
  },
  {
   "cell_type": "code",
   "execution_count": null,
   "id": "e1b5b7b5-b9fa-498e-97f8-10c02d802b70",
   "metadata": {},
   "outputs": [],
   "source": [
    "search_urls = fetch_search_pagination_urls(driver, search_url)\n",
    "search_urls"
   ]
  },
  {
   "cell_type": "code",
   "execution_count": null,
   "id": "3bfd881d-c72a-4d77-9e32-da111b0dbaf4",
   "metadata": {},
   "outputs": [],
   "source": [
    "single_company_urls = []\n",
    "for url in search_urls:\n",
    "    urls = fetch_single_company_urls(driver, url)\n",
    "    single_company_urls.extend(urls)\n",
    "print(len(single_company_urls))\n",
    "single_company_urls = single_company_urls[:3]"
   ]
  },
  {
   "cell_type": "code",
   "execution_count": null,
   "id": "fdc23ec1-0ac5-4952-8c9c-bd27e8356c68",
   "metadata": {},
   "outputs": [],
   "source": [
    "company_data = [extract_company_data(driver, url) for url in single_company_urls]\n",
    "df = pd.DataFrame(company_data).fillna('')\n",
    "df"
   ]
  },
  {
   "cell_type": "markdown",
   "id": "07434ed5-02cd-4139-8d51-394a78d5731a",
   "metadata": {},
   "source": [
    "## 5. 抽出したデータをファイルに書き出す\n",
    "\n",
    "### tsvフォーマットで書き出す"
   ]
  },
  {
   "cell_type": "code",
   "execution_count": null,
   "id": "e1851190-c92c-469f-a286-ecf249524343",
   "metadata": {},
   "outputs": [],
   "source": [
    "df.to_csv('company_data.tsv', sep='\\t')"
   ]
  },
  {
   "cell_type": "code",
   "execution_count": null,
   "id": "0f4b3769-2726-4402-9ae3-d448f50a58de",
   "metadata": {},
   "outputs": [],
   "source": []
  }
 ],
 "metadata": {
  "kernelspec": {
   "display_name": "Python 3 (ipykernel)",
   "language": "python",
   "name": "python3"
  },
  "language_info": {
   "codemirror_mode": {
    "name": "ipython",
    "version": 3
   },
   "file_extension": ".py",
   "mimetype": "text/x-python",
   "name": "python",
   "nbconvert_exporter": "python",
   "pygments_lexer": "ipython3",
   "version": "3.8.12"
  }
 },
 "nbformat": 4,
 "nbformat_minor": 5
}
