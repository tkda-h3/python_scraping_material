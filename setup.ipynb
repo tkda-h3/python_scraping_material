{
 "cells": [
  {
   "cell_type": "markdown",
   "id": "00a5454f-93a1-4460-a10b-bcc7dc87db2b",
   "metadata": {},
   "source": [
    "# Python環境構築\n",
    "\n",
    "「Shift」 + 「Enter」 を押すとセルごとにコードを実行することができます。\n",
    "\n",
    "■ 参考記事\n",
    "Jupyter Lab：基本的な使い方: https://kiseno-log.com/2020/05/10/jupyter-lab%EF%BC%9A%E5%9F%BA%E6%9C%AC%E7%9A%84%E3%81%AA%E4%BD%BF%E3%81%84%E6%96%B9/\n",
    "\n",
    "## バージョンの確認"
   ]
  },
  {
   "cell_type": "code",
   "execution_count": null,
   "id": "263101ea-3cfa-40d2-8b15-bd24b9dbb20c",
   "metadata": {},
   "outputs": [],
   "source": [
    "!python -V"
   ]
  },
  {
   "cell_type": "markdown",
   "id": "26f53760-e4ba-4ae1-92ca-eedaa82fe280",
   "metadata": {
    "tags": []
   },
   "source": [
    "## セミナーで利用するライブラリのインストール"
   ]
  },
  {
   "cell_type": "code",
   "execution_count": null,
   "id": "d14df837-f875-40bd-9f5c-89c4bd9f8f39",
   "metadata": {},
   "outputs": [],
   "source": [
    "# 長い出力結果になります\n",
    "!pip install pandas==1.3.3 beautifulsoup4==4.10.0 selenium==4.0.0 webdriver-manager==3.5.1 requests tqdm"
   ]
  },
  {
   "cell_type": "markdown",
   "id": "b27b10a7-ca8f-462d-90eb-6087004064b3",
   "metadata": {},
   "source": [
    "## ブラウザの自動立ち上げ確認\n",
    "\n",
    "chromeで新しいウィンドウが立ち上がるはずです。\n",
    "何も表示されない状態でOKです。"
   ]
  },
  {
   "cell_type": "code",
   "execution_count": null,
   "id": "025943d6-fe41-411c-8b12-d71936cc0528",
   "metadata": {},
   "outputs": [],
   "source": [
    "from time import sleep\n",
    "\n",
    "from selenium import webdriver\n",
    "from selenium.webdriver.chrome.options import Options\n",
    "from selenium.webdriver.chrome.service import Service\n",
    "from selenium.webdriver.common.by import By\n",
    "from selenium.common.exceptions import NoSuchElementException\n",
    "from webdriver_manager.chrome import ChromeDriverManager\n",
    "import pandas as pd"
   ]
  },
  {
   "cell_type": "code",
   "execution_count": null,
   "id": "44b7fadc-060e-443f-bfda-9d7ef800eb06",
   "metadata": {},
   "outputs": [],
   "source": [
    "options = Options()\n",
    "driver = webdriver.Chrome(service=Service(ChromeDriverManager().install()), options=options)"
   ]
  },
  {
   "cell_type": "code",
   "execution_count": null,
   "id": "1f4b37e1-c9cf-46ff-bedb-e1c5d88f2f0a",
   "metadata": {},
   "outputs": [],
   "source": []
  }
 ],
 "metadata": {
  "kernelspec": {
   "display_name": "Python 3 (ipykernel)",
   "language": "python",
   "name": "python3"
  },
  "language_info": {
   "codemirror_mode": {
    "name": "ipython",
    "version": 3
   },
   "file_extension": ".py",
   "mimetype": "text/x-python",
   "name": "python",
   "nbconvert_exporter": "python",
   "pygments_lexer": "ipython3",
   "version": "3.8.12"
  }
 },
 "nbformat": 4,
 "nbformat_minor": 5
}
