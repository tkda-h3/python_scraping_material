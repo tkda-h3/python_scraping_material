{
 "cells": [
  {
   "cell_type": "markdown",
   "id": "f6786845-8ab2-4e03-9048-419fd5e7efcf",
   "metadata": {},
   "source": [
    "# Python 基礎文法チートシート"
   ]
  },
  {
   "cell_type": "code",
   "execution_count": null,
   "id": "edede80c-8b1f-4fa8-8da0-144090e96aab",
   "metadata": {},
   "outputs": [],
   "source": []
  },
  {
   "cell_type": "code",
   "execution_count": null,
   "id": "c8104236-b781-4ddf-9e65-d01243874212",
   "metadata": {},
   "outputs": [],
   "source": []
  },
  {
   "cell_type": "code",
   "execution_count": null,
   "id": "f8d477a6-18cc-420f-b3a3-e9166b2b819f",
   "metadata": {},
   "outputs": [],
   "source": []
  }
 ],
 "metadata": {
  "kernelspec": {
   "display_name": "Python 3 (ipykernel)",
   "language": "python",
   "name": "python3"
  },
  "language_info": {
   "codemirror_mode": {
    "name": "ipython",
    "version": 3
   },
   "file_extension": ".py",
   "mimetype": "text/x-python",
   "name": "python",
   "nbconvert_exporter": "python",
   "pygments_lexer": "ipython3",
   "version": "3.8.12"
  }
 },
 "nbformat": 4,
 "nbformat_minor": 5
}
