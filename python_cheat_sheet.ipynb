{
 "cells": [
  {
   "cell_type": "markdown",
   "id": "f6786845-8ab2-4e03-9048-419fd5e7efcf",
   "metadata": {
    "tags": []
   },
   "source": [
    "# Python 基礎文法チートシート\n",
    "\n",
    "本セミナーで使いそうなところだけ紹介します。\n",
    "\n",
    "Pythonはインデントがずれると文法エラーになるので注意しましょう"
   ]
  },
  {
   "cell_type": "markdown",
   "id": "eb84dbf8-4880-4e5d-b363-124085fc116e",
   "metadata": {},
   "source": [
    "## print関数"
   ]
  },
  {
   "cell_type": "code",
   "execution_count": null,
   "id": "edede80c-8b1f-4fa8-8da0-144090e96aab",
   "metadata": {},
   "outputs": [],
   "source": [
    "print('Hello')\n",
    "print(3, 4, 'Hello')"
   ]
  },
  {
   "cell_type": "markdown",
   "id": "2b357047-00aa-4a28-a849-40c37b5e87a7",
   "metadata": {
    "tags": []
   },
   "source": [
    "## 番外編: インデントを変更する練習\n",
    "\n",
    "範囲選択をして\n",
    "「tab」キーを押すと1つインデントが下がります。\n",
    "「Shift + tab」キーを押すと1つインデントが上がります。"
   ]
  },
  {
   "cell_type": "code",
   "execution_count": null,
   "id": "eb4e22e3-5cf0-49a6-8aae-4ec7e64930ef",
   "metadata": {},
   "outputs": [],
   "source": [
    "# インデントを下のセルと同じになるように練習して下さい\n",
    "print('Hello, 01')\n",
    "print('Hello, 02')\n",
    "print('Hello, 03')\n",
    "print('Hello, 04')\n",
    "print('Hello, 05')"
   ]
  },
  {
   "cell_type": "code",
   "execution_count": null,
   "id": "5ea33b01-766b-4e8d-adf1-726e4cfc91a9",
   "metadata": {},
   "outputs": [],
   "source": [
    "# 目標 (文法的にはエラーです。あくまでインデントの練習)\n",
    "print('Hello, 01')\n",
    "print('Hello, 02')\n",
    "        print('Hello, 03')\n",
    "    print('Hello, 04')\n",
    "    print('Hello, 05')"
   ]
  },
  {
   "cell_type": "markdown",
   "id": "64520863-8032-4b82-9a11-0bacb24dea33",
   "metadata": {},
   "source": [
    "## if文\n",
    "\n",
    "if節の中、else節の中はインデントを1つ下げる\n"
   ]
  },
  {
   "cell_type": "code",
   "execution_count": null,
   "id": "3201a7af-c0eb-4acd-ba5c-db27f30296dc",
   "metadata": {},
   "outputs": [],
   "source": [
    "if 99 > 0:\n",
    "    print('正しい')\n",
    "else:\n",
    "    print('間違い')"
   ]
  },
  {
   "cell_type": "markdown",
   "id": "0f760a35-bbd0-4049-bc43-47bf3e863433",
   "metadata": {},
   "source": [
    "## リスト（配列）"
   ]
  },
  {
   "cell_type": "code",
   "execution_count": null,
   "id": "29a16e30-6494-4432-b0ec-67064b26589e",
   "metadata": {},
   "outputs": [],
   "source": [
    "nums = [1, 2, 3, 4]\n",
    "print(nums[0])  # 1個目の要素\n",
    "print(nums[1])  # 2個目の要素\n",
    "print(nums[:2]) # 2個目までの要素\n",
    "print(len(nums))  # リストの長さ\n",
    "\n",
    "# 要素ごとに改行してもOK. インデントは1つ下げるのがマナー\n",
    "nums = [\n",
    "    'とても長い文字列01 とても長い文字列01 とても長い文字列01 とても長い文字列01',\n",
    "    'とても長い文字列02 とても長い文字列02 とても長い文字列02 とても長い文字列02',\n",
    "    'とても長い文字列03 とても長い文字列03 とても長い文字列03 とても長い文字列03',\n",
    "]"
   ]
  },
  {
   "cell_type": "markdown",
   "id": "527e150a-4aa7-4f00-9cae-59757462a95c",
   "metadata": {},
   "source": [
    "### append\n",
    "\n",
    "リストの末尾に要素を追加する"
   ]
  },
  {
   "cell_type": "code",
   "execution_count": null,
   "id": "85439206-9f24-462b-8e84-2f514da2fc4a",
   "metadata": {},
   "outputs": [],
   "source": [
    "nums = [1, 2, 3, 4]\n",
    "nums.append(99)\n",
    "nums.append(999)\n",
    "print(nums)"
   ]
  },
  {
   "cell_type": "markdown",
   "id": "2531cce4-1480-47a4-9eb1-5daf9757ec7f",
   "metadata": {},
   "source": [
    "### extend\n",
    "リストとリストを連結する"
   ]
  },
  {
   "cell_type": "code",
   "execution_count": null,
   "id": "008daf61-37e3-4851-8985-f8eabcc6bfad",
   "metadata": {},
   "outputs": [],
   "source": [
    "nums_left = [1, 2, 3]\n",
    "nums_right = [100, 110, 120, 130]\n",
    "\n",
    "nums_left.extend(nums_right)  # 連結\n",
    "\n",
    "print(nums_left)"
   ]
  },
  {
   "cell_type": "markdown",
   "id": "1cd24655-1cdf-45a6-84e7-8d5dfb1451b0",
   "metadata": {},
   "source": [
    "## ループ\n",
    "\n",
    "### forループ"
   ]
  },
  {
   "cell_type": "code",
   "execution_count": null,
   "id": "4da790b4-de17-4a01-8e43-4ef6df0467dd",
   "metadata": {},
   "outputs": [],
   "source": [
    "nums = [1, 2, 3, 4]\n",
    "for x in nums:\n",
    "    y = x * 3 + 1\n",
    "    print(y)"
   ]
  },
  {
   "cell_type": "markdown",
   "id": "6aaac007-2c9e-407d-9af4-eb0a0f224412",
   "metadata": {},
   "source": [
    "### リスト内包表記"
   ]
  },
  {
   "cell_type": "code",
   "execution_count": null,
   "id": "933be112-7eda-4f85-b68b-27934168cc73",
   "metadata": {},
   "outputs": [],
   "source": [
    "nums = [1, 2, 3, 4]\n",
    "result = [x * 10 for x in nums]\n",
    "print(result)"
   ]
  },
  {
   "cell_type": "markdown",
   "id": "f2079729-edf0-44c8-8575-c578b85e7325",
   "metadata": {},
   "source": [
    "#### 上と同じ結果になるforループ"
   ]
  },
  {
   "cell_type": "code",
   "execution_count": null,
   "id": "0f0962e6-0750-4c6c-8094-8fd9a1b4b62a",
   "metadata": {},
   "outputs": [],
   "source": [
    "nums = [1, 2, 3, 4]\n",
    "result = []\n",
    "for x in nums:\n",
    "    result.append(x * 10)\n",
    "\n",
    "print(result)"
   ]
  },
  {
   "cell_type": "markdown",
   "id": "e0d3a8f8-fd00-4aa3-aad1-c8281cf80cd2",
   "metadata": {},
   "source": [
    "#### zip\n",
    "複数のリストから同時に1つずつ要素を取り出す"
   ]
  },
  {
   "cell_type": "code",
   "execution_count": null,
   "id": "28952fa1-c31d-4139-be1b-94962125e35b",
   "metadata": {},
   "outputs": [],
   "source": [
    "nums = [3, 2, 1]\n",
    "chars = ['a', 'b', 'c']\n",
    "\n",
    "for n, c in zip(nums, chars): # 複数のリストから同時に1つずつ要素を取り出す\n",
    "    print(n, c)\n",
    "    print('---')"
   ]
  },
  {
   "cell_type": "markdown",
   "id": "e4ae4bd2-2bea-43d1-a4f3-b2189c83dd8e",
   "metadata": {},
   "source": [
    "### whileループ"
   ]
  },
  {
   "cell_type": "code",
   "execution_count": null,
   "id": "3162174a-6609-4578-9ee5-00d3d91d432e",
   "metadata": {},
   "outputs": [],
   "source": [
    "chars = ['a', 'b', 'c']\n",
    "index = 0\n",
    "while True:\n",
    "    if len(chars) <= index: # 3 <= index になったらループを抜ける\n",
    "        break\n",
    "        \n",
    "    print(chars[index])\n",
    "    index = index + 1"
   ]
  },
  {
   "cell_type": "markdown",
   "id": "c2fcce4a-4fd1-4988-aaa2-d3cef05e3172",
   "metadata": {},
   "source": [
    "## Dict\n",
    "\n",
    "phpの連想配列に近い。keyとvalueをペアに持つ"
   ]
  },
  {
   "cell_type": "code",
   "execution_count": null,
   "id": "f4771226-6e00-4a55-af0d-c5a132ef4d4c",
   "metadata": {},
   "outputs": [],
   "source": [
    "# 日本語をkey, 英語をvalue\n",
    "jp_to_en = {'ポニー': 'pony', 'フェレット': 'ferret', 'カメレオン': 'chameleon'}\n",
    "\n",
    "jp_to_en['フェレット']"
   ]
  },
  {
   "cell_type": "markdown",
   "id": "4fd3b395-c511-4fbc-b9e1-558d9227ec04",
   "metadata": {},
   "source": [
    "## 関数"
   ]
  },
  {
   "cell_type": "code",
   "execution_count": null,
   "id": "6975792d-c23c-4435-960f-311ff6125e81",
   "metadata": {},
   "outputs": [],
   "source": [
    "def sentense(name, message):\n",
    "    print(f'{name}さん、{message}！')"
   ]
  },
  {
   "cell_type": "code",
   "execution_count": null,
   "id": "7e9ca835-8584-415e-8889-c57ca23e4ab5",
   "metadata": {},
   "outputs": [],
   "source": [
    "sentense('原', '最高')\n",
    "\n",
    "sentense('原', 'おはよう')"
   ]
  },
  {
   "cell_type": "markdown",
   "id": "6cd4c8f0-19df-4eab-bb3f-f73c0e50e465",
   "metadata": {
    "tags": []
   },
   "source": [
    "## 例外処理"
   ]
  },
  {
   "cell_type": "code",
   "execution_count": null,
   "id": "0dbb58b3-ca63-48bf-954e-326c0893948b",
   "metadata": {},
   "outputs": [],
   "source": [
    "print(3 / 2)  # 1.5\n",
    "print(3 / 0)  # ZeroDivisionError が発生\n",
    "# ここで処理がストップしてしまう\n",
    "\n",
    "print('これ以下のコードは実行されない')"
   ]
  },
  {
   "cell_type": "code",
   "execution_count": null,
   "id": "7bdacadc-8764-47f7-80d5-9013fa6823ac",
   "metadata": {},
   "outputs": [],
   "source": [
    "try:\n",
    "    3 / 0\n",
    "except ZeroDivisionError:\n",
    "    print('0で割ってるよ')"
   ]
  },
  {
   "cell_type": "markdown",
   "id": "2fad1e21-57c3-4529-b9ed-89b6a639aaf8",
   "metadata": {},
   "source": [
    "## 番外編: リストとDictの組み合わせ"
   ]
  },
  {
   "cell_type": "code",
   "execution_count": null,
   "id": "f7773166-93ce-45af-9fb7-99ce6fc79111",
   "metadata": {},
   "outputs": [],
   "source": [
    "person_a = {'name': '山田太郎', 'age': 20, 'job': 'WEBデザイナー'}\n",
    "person_b = {'name': '山田花子', 'age': 25}\n",
    "person_c = {'name': '鈴木一郎', 'job': '野球選手'}\n",
    "\n",
    "persons = [person_a, person_b, person_c]\n",
    "for person in persons:\n",
    "    print(person)\n",
    "    print('------------')"
   ]
  },
  {
   "cell_type": "markdown",
   "id": "cd2832a1-c79a-41c6-8094-d7923bdac3e0",
   "metadata": {},
   "source": [
    "## データ分析ライブラリ Pandas の紹介\n",
    "\n",
    "テーブルデータ（Excelのような行と列で構成されるデータ）の扱いに強いライブラリ"
   ]
  },
  {
   "cell_type": "code",
   "execution_count": null,
   "id": "5d667738-5316-4570-9f28-85b40b231350",
   "metadata": {},
   "outputs": [],
   "source": [
    "import pandas as pd"
   ]
  },
  {
   "cell_type": "code",
   "execution_count": null,
   "id": "fd35959e-76dc-4145-8f96-0cf8dc5b365c",
   "metadata": {},
   "outputs": [],
   "source": [
    "person_a = {'name': '山田太郎', 'age': 20, 'job': 'WEBデザイナー'}\n",
    "person_b = {'name': '山田花子', 'age': 25}\n",
    "person_c = {'name': '鈴木一郎', 'job': '野球選手'}\n",
    "\n",
    "persons = [person_a, person_b, person_c]\n",
    "\n",
    "df = pd.DataFrame(persons)\n",
    "df  # 欠損値は Nan と表示される"
   ]
  },
  {
   "cell_type": "code",
   "execution_count": null,
   "id": "766dfe9f-9c14-4399-9141-8e3e4ff5877d",
   "metadata": {},
   "outputs": [],
   "source": [
    "df = df.fillna('')  # Nan を空文字に置き換え\n",
    "df"
   ]
  },
  {
   "cell_type": "markdown",
   "id": "9451870f-fc2b-4683-b054-10ae460b54ba",
   "metadata": {},
   "source": [
    "### tsvファイルに書き出す"
   ]
  },
  {
   "cell_type": "code",
   "execution_count": null,
   "id": "43c7b115-e59b-49bb-9ce3-e3a6ea8bf11a",
   "metadata": {},
   "outputs": [],
   "source": [
    "df.to_csv('person.tsv', sep='\\t')"
   ]
  },
  {
   "cell_type": "code",
   "execution_count": null,
   "id": "bcbc2ff3-874f-4808-9039-a167f48a7ccf",
   "metadata": {},
   "outputs": [],
   "source": []
  }
 ],
 "metadata": {
  "kernelspec": {
   "display_name": "Python 3 (ipykernel)",
   "language": "python",
   "name": "python3"
  },
  "language_info": {
   "codemirror_mode": {
    "name": "ipython",
    "version": 3
   },
   "file_extension": ".py",
   "mimetype": "text/x-python",
   "name": "python",
   "nbconvert_exporter": "python",
   "pygments_lexer": "ipython3",
   "version": "3.8.12"
  }
 },
 "nbformat": 4,
 "nbformat_minor": 5
}
